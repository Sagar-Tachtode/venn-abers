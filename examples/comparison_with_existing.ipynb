{
 "cells": [
  {
   "cell_type": "markdown",
   "id": "8a5e94f5-7fbc-4d80-ac7e-566f3a28d1a1",
   "metadata": {},
   "source": [
    "# Comparison with existing implemenation"
   ]
  },
  {
   "cell_type": "markdown",
   "id": "2547ddf3-2ffa-46d4-a8bb-2e1ebabe6da5",
   "metadata": {},
   "source": [
    "Comparison with straight-forward existing implementation of IVAP algorithm  as implemented in https://github.com/ptocca/VennABERS"
   ]
  },
  {
   "cell_type": "code",
   "execution_count": 1,
   "id": "a8b85ae7-b799-497f-9e24-bb75903088ab",
   "metadata": {},
   "outputs": [],
   "source": [
    "import numpy as np\n",
    "from numpy import random\n",
    "from sklearn.isotonic import IsotonicRegression\n",
    "from datetime import datetime\n",
    "import warnings\n",
    "warnings.filterwarnings('ignore')\n",
    "\n",
    "import sys  \n",
    "sys.path.insert(0, '/Users/ivanpetej/Projects/venn-abers-github/venn-abers/src/')\n",
    "\n",
    "from venn_abers import VennAbers"
   ]
  },
  {
   "cell_type": "markdown",
   "id": "066934bd-3e77-452b-b78a-8dabe83c0996",
   "metadata": {},
   "source": [
    "### Define functions(from https://github.com/ptocca/VennABERS)"
   ]
  },
  {
   "cell_type": "code",
   "execution_count": 2,
   "id": "80addf94-1764-4ee1-8e07-567d54e7ad74",
   "metadata": {},
   "outputs": [],
   "source": [
    "def push(x, stack):\n",
    "    stack.append(x)\n",
    "\n",
    "\n",
    "def pop(stack):\n",
    "    return stack.pop()\n",
    "\n",
    "\n",
    "def top(stack):\n",
    "    return stack[-1]\n",
    "\n",
    "\n",
    "def nextToTop(stack):\n",
    "    return stack[-2]\n",
    "\n",
    "\n",
    "# perhaps inefficient but clear implementation\n",
    "def nonleftTurn(a, b, c):\n",
    "    d1 = b - a\n",
    "    d2 = c - b\n",
    "    return np.cross(d1, d2) <= 0\n",
    "\n",
    "\n",
    "def nonrightTurn(a, b, c):\n",
    "    d1 = b - a\n",
    "    d2 = c - b\n",
    "    return np.cross(d1, d2) >= 0\n",
    "\n",
    "\n",
    "def slope(a, b):\n",
    "    ax, ay = a\n",
    "    bx, by = b\n",
    "    return (by - ay) / (bx - ax)\n",
    "\n",
    "\n",
    "def notBelow(t, p1, p2):\n",
    "    p1x, p1y = p1\n",
    "    p2x, p2y = p2\n",
    "    tx, ty = t\n",
    "    m = (p2y - p1y) / (p2x - p1x)\n",
    "    b = (p2x * p1y - p1x * p2y) / (p2x - p1x)\n",
    "    return (ty >= tx * m + b)\n",
    "\n",
    "\n",
    "kPrime = None\n",
    "\n",
    "\n",
    "# Because we cannot have negative indices in Python (they have another meaning), I use a dictionary\n",
    "\n",
    "def algorithm1(P):\n",
    "    global kPrime\n",
    "\n",
    "    S = []\n",
    "    P[-1] = np.array((-1, -1))\n",
    "    push(P[-1], S)\n",
    "    push(P[0], S)\n",
    "    for i in range(1, kPrime + 1):\n",
    "        while len(S) > 1 and nonleftTurn(nextToTop(S), top(S), P[i]):\n",
    "            pop(S)\n",
    "        push(P[i], S)\n",
    "    return S\n",
    "\n",
    "\n",
    "def algorithm2(P, S):\n",
    "    global kPrime\n",
    "\n",
    "    Sprime = S[::-1]  # reverse the stack\n",
    "\n",
    "    F1 = np.zeros((kPrime + 1,))\n",
    "    for i in range(1, kPrime + 1):\n",
    "        F1[i] = slope(top(Sprime), nextToTop(Sprime))\n",
    "        P[i - 1] = P[i - 2] + P[i] - P[i - 1]\n",
    "        if notBelow(P[i - 1], top(Sprime), nextToTop(Sprime)):\n",
    "            continue\n",
    "        pop(Sprime)\n",
    "        while len(Sprime) > 1 and nonleftTurn(P[i - 1], top(Sprime), nextToTop(Sprime)):\n",
    "            pop(Sprime)\n",
    "        push(P[i - 1], Sprime)\n",
    "    return F1\n",
    "\n",
    "\n",
    "def algorithm3(P):\n",
    "    global kPrime\n",
    "\n",
    "    S = []\n",
    "    push(P[kPrime + 1], S)\n",
    "    push(P[kPrime], S)\n",
    "    for i in range(kPrime - 1, 0 - 1, -1):  # k'-1,k'-2,...,0\n",
    "        while len(S) > 1 and nonrightTurn(nextToTop(S), top(S), P[i]):\n",
    "            pop(S)\n",
    "        push(P[i], S)\n",
    "    return S\n",
    "\n",
    "\n",
    "def algorithm4(P, S):\n",
    "    global kPrime\n",
    "\n",
    "    Sprime = S[::-1]  # reverse the stack\n",
    "\n",
    "    F0 = np.zeros((kPrime + 1,))\n",
    "    for i in range(kPrime, 1 - 1, -1):  # k',k'-1,...,1\n",
    "        F0[i] = slope(top(Sprime), nextToTop(Sprime))\n",
    "        P[i] = P[i - 1] + P[i + 1] - P[i]\n",
    "        if notBelow(P[i], top(Sprime), nextToTop(Sprime)):\n",
    "            continue\n",
    "        pop(Sprime)\n",
    "        while len(Sprime) > 1 and nonrightTurn(P[i], top(Sprime), nextToTop(Sprime)):\n",
    "            pop(Sprime)\n",
    "        push(P[i], Sprime)\n",
    "    return F0\n",
    "\n",
    "\n",
    "def prepareData(calibrPoints):\n",
    "    global kPrime\n",
    "\n",
    "    ptsSorted = sorted(calibrPoints)\n",
    "\n",
    "    xs = np.fromiter((p[0] for p in ptsSorted), float)\n",
    "    ys = np.fromiter((p[1] for p in ptsSorted), float)\n",
    "    ptsUnique, ptsIndex, ptsInverse, ptsCounts = np.unique(xs,\n",
    "                                                           return_index=True,\n",
    "                                                           return_counts=True,\n",
    "                                                           return_inverse=True)\n",
    "    a = np.zeros(ptsUnique.shape)\n",
    "    np.add.at(a, ptsInverse, ys)\n",
    "    # now a contains the sums of ys for each unique value of the objects\n",
    "\n",
    "    w = ptsCounts\n",
    "    yPrime = a / w\n",
    "    yCsd = np.cumsum(w * yPrime)  # Might as well do just np.cumsum(a)\n",
    "    xPrime = np.cumsum(w)\n",
    "    kPrime = len(xPrime)\n",
    "\n",
    "    return yPrime, yCsd, xPrime, ptsUnique\n",
    "\n",
    "\n",
    "def computeF(xPrime, yCsd):\n",
    "    global kPrime\n",
    "    P = {0: np.array((0, 0))}\n",
    "    P.update({i + 1: np.array((k, v)) for i, (k, v) in enumerate(zip(xPrime, yCsd))})\n",
    "\n",
    "    S = algorithm1(P)\n",
    "    F1 = algorithm2(P, S)\n",
    "\n",
    "    P = {0: np.array((0, 0))}\n",
    "    P.update({i + 1: np.array((k, v)) for i, (k, v) in enumerate(zip(xPrime, yCsd))})\n",
    "    P[kPrime + 1] = P[kPrime] + np.array((1.0, 0.0))  # The paper says (1,1)\n",
    "\n",
    "    S = algorithm3(P)\n",
    "    F0 = algorithm4(P, S)\n",
    "\n",
    "    return F0, F1\n",
    "\n",
    "\n",
    "def getFVal(F0, F1, ptsUnique, testObjects):\n",
    "    pos0 = np.searchsorted(ptsUnique, testObjects, side='left')\n",
    "    pos1 = np.searchsorted(ptsUnique[:-1], testObjects, side='right') + 1\n",
    "    return F0[pos0], F1[pos1]\n",
    "\n",
    "\n",
    "def ScoresToMultiProbs(calibrPoints, testObjects):\n",
    "    # sort the points, transform into unique objects, with weights and updated values\n",
    "    yPrime, yCsd, xPrime, ptsUnique = prepareData(calibrPoints)\n",
    "\n",
    "    # compute the F0 and F1 functions from the CSD\n",
    "    F0, F1 = computeF(xPrime, yCsd)\n",
    "\n",
    "    # compute the values for the given test objects\n",
    "    p0, p1 = getFVal(F0, F1, ptsUnique, testObjects)\n",
    "\n",
    "    return p0, p1\n",
    "\n",
    "# manual VennABERS calculation applying isotonic regression\n",
    "def VennABERS_by_def(ds, test):\n",
    "    p0, p1 = [], []\n",
    "    for x in test:\n",
    "        ds0 = ds + [(x, 0)]\n",
    "        iso0 = IsotonicRegression().fit(*zip(*ds0))\n",
    "        p0.append(iso0.predict([x]))\n",
    "\n",
    "        ds1 = ds + [(x, 1)]\n",
    "        iso1 = IsotonicRegression().fit(*zip(*ds1))\n",
    "        p1.append(iso1.predict([x]))\n",
    "    return np.array(p0).flatten(), np.array(p1).flatten()"
   ]
  },
  {
   "cell_type": "markdown",
   "id": "df47ed4c-e0c8-4888-8712-792ec7acd349",
   "metadata": {},
   "source": [
    "### Example dataset (from https://github.com/ptocca/VennABERS)"
   ]
  },
  {
   "cell_type": "code",
   "execution_count": 3,
   "id": "8c0c2948-c95a-48b0-b9cb-c8aad64acdd2",
   "metadata": {},
   "outputs": [],
   "source": [
    "np.random.seed(0)\n",
    "\n",
    "def sigmoid(x):\n",
    "    return np.exp(-np.logaddexp(0,-x))\n",
    "\n",
    "def thr(xs):\n",
    "    return 0.5*(sigmoid((xs+4))+sigmoid(4*(xs-4)))\n",
    "\n",
    "def classAssignment(xs):\n",
    "    global thr\n",
    "    u = np.random.random(size=xs.shape[0])\n",
    "    ys = u<thr(xs)\n",
    "    return ys"
   ]
  },
  {
   "cell_type": "code",
   "execution_count": 4,
   "id": "fe59d087-293f-4b1c-a6a9-438435b360b0",
   "metadata": {},
   "outputs": [],
   "source": [
    "xs = np.random.uniform(low=-10,high=10,size=400)\n",
    "ys = classAssignment(xs)\n",
    "\n",
    "xtest = np.linspace(-11,11,1000)"
   ]
  },
  {
   "cell_type": "markdown",
   "id": "c0db56a3-60ab-4640-addb-fcb0126d4924",
   "metadata": {},
   "source": [
    "**Existing implementation**"
   ]
  },
  {
   "cell_type": "code",
   "execution_count": 5,
   "id": "ebf5ceec-fd92-4fd0-bd82-874a9bddb764",
   "metadata": {},
   "outputs": [
    {
     "name": "stdout",
     "output_type": "stream",
     "text": [
      "Time taken 0:00:00.018618\n"
     ]
    }
   ],
   "source": [
    "startTime = datetime.now()\n",
    "p0_g, p1_g = ScoresToMultiProbs(list(zip(xs,ys)),xtest)\n",
    "print('Time taken ' + str(datetime.now() - startTime))"
   ]
  },
  {
   "cell_type": "markdown",
   "id": "22047651-1e33-42de-9d74-996a8e2ceb7f",
   "metadata": {},
   "source": [
    "Comparison with manual VennABERS calculation as outlined in \"Venn-Abers predictors\" by Vovk and Petej (https://arxiv.org/abs/1211.0025), we refer to this is \"Our implementation\""
   ]
  },
  {
   "cell_type": "code",
   "execution_count": 6,
   "id": "ea2c829d-a9df-474a-b320-a5226505779f",
   "metadata": {},
   "outputs": [],
   "source": [
    "p0_v, p1_v = VennABERS_by_def(list(zip(xs,ys)),xtest)"
   ]
  },
  {
   "cell_type": "code",
   "execution_count": 7,
   "id": "40796e7e-fa2b-44da-9ae7-27ae78fe7c4b",
   "metadata": {},
   "outputs": [
    {
     "name": "stdout",
     "output_type": "stream",
     "text": [
      "p0: there are 0 discrepancies\n",
      "p1: there are 0 discrepancies\n"
     ]
    }
   ],
   "source": [
    "discrepancies_p0 = np.argwhere(~np.isclose(p0_g.flatten(),p0_v.flatten()))\n",
    "discrepancies_p1 = np.argwhere(~np.isclose(p1_g.flatten(),p1_v.flatten()))\n",
    "\n",
    "print(\"p0: there are\", discrepancies_p0.shape[0], \"discrepancies\")\n",
    "print(\"p1: there are\", discrepancies_p1.shape[0], \"discrepancies\")"
   ]
  },
  {
   "cell_type": "markdown",
   "id": "06150777-0b1c-4c2e-8d1f-1de653300dbb",
   "metadata": {},
   "source": [
    "**Our implementation**"
   ]
  },
  {
   "cell_type": "code",
   "execution_count": 8,
   "id": "bef23b25-a838-4eb7-a9a2-fae6efd5a7e4",
   "metadata": {},
   "outputs": [
    {
     "name": "stdout",
     "output_type": "stream",
     "text": [
      "Time taken: 0:00:00.003469\n"
     ]
    }
   ],
   "source": [
    "p_cal = np.transpose(np.vstack((1-xs, xs)))\n",
    "y_cal = ys\n",
    "p_test = np.transpose(np.vstack((1-xtest, xtest)))\n",
    "\n",
    "startTime = datetime.now()\n",
    "va = VennAbers()\n",
    "va.fit(p_cal, y_cal)\n",
    "p_prime, probs = va.predict_proba(p_test)\n",
    "print('Time taken: ' + str(datetime.now() - startTime))"
   ]
  },
  {
   "cell_type": "code",
   "execution_count": 9,
   "id": "be2864ce-6d1b-40be-9647-c96bade3c319",
   "metadata": {},
   "outputs": [
    {
     "name": "stdout",
     "output_type": "stream",
     "text": [
      "p0: there are 0 discrepancies\n",
      "p1: there are 0 discrepancies\n"
     ]
    }
   ],
   "source": [
    "discrepancies_p0 = np.argwhere(~np.isclose(probs[:,0].flatten(),p0_v.flatten()))\n",
    "discrepancies_p1 = np.argwhere(~np.isclose(probs[:,1].flatten(),p1_v.flatten()))\n",
    "\n",
    "print(\"p0: there are\", discrepancies_p0.shape[0], \"discrepancies\")\n",
    "print(\"p1: there are\", discrepancies_p1.shape[0], \"discrepancies\")"
   ]
  },
  {
   "cell_type": "markdown",
   "id": "717f789d-e314-40c1-99a8-e817306dd420",
   "metadata": {},
   "source": [
    "### Our example dataset (small)"
   ]
  },
  {
   "cell_type": "code",
   "execution_count": 10,
   "id": "0624f381-eedc-4518-950a-6cc42dc01459",
   "metadata": {},
   "outputs": [],
   "source": [
    "p_cal = np.zeros((1000, 2))\n",
    "y_cal = np.zeros((1000, 1))\n",
    "p_test= np.zeros((1000, 2))\n",
    "\n",
    "p_cal[:, 1] = random.randint(10000, size=1000) / 10000\n",
    "p_cal[:, 0] = 1 - p_cal[:, 1]\n",
    "\n",
    "y_cal = (p_cal[:, 1] > 0.3).astype('int')\n",
    "\n",
    "\n",
    "p_test[:, 1] = random.randint(10000, size=1000) / 10000\n",
    "p_test[:, 0] = 1 - p_test[:, 1]"
   ]
  },
  {
   "cell_type": "markdown",
   "id": "a7c23997-de37-4e44-adf9-b516add313df",
   "metadata": {},
   "source": [
    "**Existing implementation code**"
   ]
  },
  {
   "cell_type": "code",
   "execution_count": 11,
   "id": "f740aa1a-7840-4006-a1bd-eb6c88089088",
   "metadata": {},
   "outputs": [
    {
     "name": "stdout",
     "output_type": "stream",
     "text": [
      "Time taken: 0:00:00.036466\n"
     ]
    }
   ],
   "source": [
    "startTime = datetime.now()\n",
    "p0_g, p1_g = ScoresToMultiProbs(list(zip(p_cal[:, 1], y_cal)), p_test[:,1])\n",
    "print('Time taken: ' + str(datetime.now() - startTime))"
   ]
  },
  {
   "cell_type": "markdown",
   "id": "c4946956-d270-4741-9a34-a1e1d828683f",
   "metadata": {},
   "source": [
    "**Our code**"
   ]
  },
  {
   "cell_type": "code",
   "execution_count": 12,
   "id": "8ff35e48-716f-4113-a2a8-07c6f6c0449e",
   "metadata": {},
   "outputs": [
    {
     "name": "stdout",
     "output_type": "stream",
     "text": [
      "Time taken: 0:00:00.008986\n"
     ]
    }
   ],
   "source": [
    "startTime = datetime.now()\n",
    "va = VennAbers()\n",
    "va.fit(p_cal, y_cal)\n",
    "p_prime, probs = va.predict_proba(p_test)\n",
    "print('Time taken: ' + str(datetime.now() - startTime))"
   ]
  },
  {
   "cell_type": "code",
   "execution_count": 13,
   "id": "ba67b767-7557-4f79-a4ed-024805b1d8de",
   "metadata": {},
   "outputs": [],
   "source": [
    "p0_v, p1_v = VennABERS_by_def(list(zip(p_cal[:,1], y_cal)), p_test[:, 1])"
   ]
  },
  {
   "cell_type": "markdown",
   "id": "72dee46a-b0cb-433e-b39f-c627f4233a0c",
   "metadata": {},
   "source": [
    "**Discrepanices in existing implementation**"
   ]
  },
  {
   "cell_type": "code",
   "execution_count": 14,
   "id": "e8389a9e-0abf-4b64-ae0b-79c1ba8457df",
   "metadata": {},
   "outputs": [
    {
     "name": "stdout",
     "output_type": "stream",
     "text": [
      "p0: there are 24 discrepancies\n",
      "p1: there are 37 discrepancies\n"
     ]
    }
   ],
   "source": [
    "discrepancies_p0 = np.argwhere(~np.isclose(p0_g.flatten(),p0_v.flatten()))\n",
    "discrepancies_p1 = np.argwhere(~np.isclose(p1_g.flatten(),p1_v.flatten()))\n",
    "\n",
    "print(\"p0: there are\", discrepancies_p0.shape[0], \"discrepancies\")\n",
    "print(\"p1: there are\", discrepancies_p1.shape[0], \"discrepancies\")"
   ]
  },
  {
   "cell_type": "markdown",
   "id": "8d506831-dfc2-400b-9408-a099f8f8ab3f",
   "metadata": {},
   "source": [
    "**Discrepanices in our implementation**"
   ]
  },
  {
   "cell_type": "code",
   "execution_count": 15,
   "id": "88b0586e-9a63-4af6-886d-80d0f8948364",
   "metadata": {},
   "outputs": [
    {
     "name": "stdout",
     "output_type": "stream",
     "text": [
      "p0: there are 0 discrepancies\n",
      "p1: there are 0 discrepancies\n"
     ]
    }
   ],
   "source": [
    "discrepancies_p0 = np.argwhere(~np.isclose(probs[:,0].flatten(),p0_v.flatten()))\n",
    "discrepancies_p1 = np.argwhere(~np.isclose(probs[:,1].flatten(),p1_v.flatten()))\n",
    "\n",
    "print(\"p0: there are\", discrepancies_p0.shape[0], \"discrepancies\")\n",
    "print(\"p1: there are\", discrepancies_p1.shape[0], \"discrepancies\")"
   ]
  },
  {
   "cell_type": "markdown",
   "id": "3e14943c-5e05-4963-b6b5-1b37d9cd4580",
   "metadata": {},
   "source": [
    "### Our example dataset (large)"
   ]
  },
  {
   "cell_type": "code",
   "execution_count": 16,
   "id": "6ab230a3-46ba-4d2d-a03b-46b34b649626",
   "metadata": {},
   "outputs": [],
   "source": [
    "p_cal = np.zeros((100000, 2))\n",
    "p_test = np.zeros((100000, 2))\n",
    "\n",
    "p_cal[:, 1] = random.randint(10000, size=100000) / 10000\n",
    "p_cal[:, 0] = 1 - p_cal[:, 1]\n",
    "y_cal = (p_cal[:, 1] > 0.3).astype('int')\n",
    "\n",
    "\n",
    "p_test[:, 1] = random.randint(10000, size=100000) / 10000\n",
    "p_test[:, 0] = 1 - p_test[:, 1]"
   ]
  },
  {
   "cell_type": "markdown",
   "id": "07a1432a-6cd7-41e8-8e7f-75be401928be",
   "metadata": {},
   "source": [
    "**Existing implementation code**"
   ]
  },
  {
   "cell_type": "code",
   "execution_count": 17,
   "id": "39eed144-2508-4d82-b96e-213ef42820c9",
   "metadata": {},
   "outputs": [
    {
     "name": "stdout",
     "output_type": "stream",
     "text": [
      "Time taken: 0:00:00.401858\n"
     ]
    }
   ],
   "source": [
    "startTime = datetime.now()\n",
    "p0_g, p1_g = ScoresToMultiProbs(list(zip(p_cal[:, 1], y_cal)), p_test[:,1])\n",
    "print('Time taken: ' + str(datetime.now() - startTime))"
   ]
  },
  {
   "cell_type": "markdown",
   "id": "62e3e993-abce-449d-9a0a-1cfb5c68da9c",
   "metadata": {},
   "source": [
    "**Our code**"
   ]
  },
  {
   "cell_type": "code",
   "execution_count": 18,
   "id": "a49d6424-81e5-4481-9f69-e7544cb5c808",
   "metadata": {},
   "outputs": [
    {
     "name": "stdout",
     "output_type": "stream",
     "text": [
      "Time taken: 0:00:00.216015\n"
     ]
    }
   ],
   "source": [
    "startTime = datetime.now()\n",
    "va = VennAbers()\n",
    "va.fit(p_cal, y_cal)\n",
    "p_prime, probs = va.predict_proba(p_test)\n",
    "print('Time taken: ' + str(datetime.now() - startTime))"
   ]
  },
  {
   "cell_type": "markdown",
   "id": "3e26fb48-81c6-4ebb-a369-7ca8175fd1a5",
   "metadata": {},
   "source": [
    "Our implmentaion yields a faster computation time"
   ]
  },
  {
   "cell_type": "code",
   "execution_count": null,
   "id": "1962da2b-3b8d-40e5-8ca1-84f90d968e86",
   "metadata": {},
   "outputs": [],
   "source": []
  }
 ],
 "metadata": {
  "kernelspec": {
   "display_name": "venn_abers_github",
   "language": "python",
   "name": "venn_abers_github"
  },
  "language_info": {
   "codemirror_mode": {
    "name": "ipython",
    "version": 3
   },
   "file_extension": ".py",
   "mimetype": "text/x-python",
   "name": "python",
   "nbconvert_exporter": "python",
   "pygments_lexer": "ipython3",
   "version": "3.11.4"
  }
 },
 "nbformat": 4,
 "nbformat_minor": 5
}
